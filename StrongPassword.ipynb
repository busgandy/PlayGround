{
  "nbformat": 4,
  "nbformat_minor": 0,
  "metadata": {
    "colab": {
      "name": "DECAGON.ipynb",
      "provenance": [],
      "authorship_tag": "ABX9TyMdAYwKnFedk6rnOXgNjBkz",
      "include_colab_link": true
    },
    "kernelspec": {
      "name": "python3",
      "display_name": "Python 3"
    },
    "language_info": {
      "name": "python"
    }
  },
  "cells": [
    {
      "cell_type": "markdown",
      "metadata": {
        "id": "view-in-github",
        "colab_type": "text"
      },
      "source": [
        "<a href=\"https://colab.research.google.com/github/busgandy/PlayGround/blob/main/StrongPassword.ipynb\" target=\"_parent\"><img src=\"https://colab.research.google.com/assets/colab-badge.svg\" alt=\"Open In Colab\"/></a>"
      ]
    },
    {
      "cell_type": "code",
      "metadata": {
        "id": "jDv8g2_SA5nf"
      },
      "source": [
        "m = re.match(r\"(?P<first_name>\\w+) (?P<last_name>\\w+)\", \"Busayo Olushola\")\n",
        "m.group('first_name')"
      ],
      "execution_count": null,
      "outputs": []
    },
    {
      "cell_type": "code",
      "metadata": {
        "id": "sH35mjP-jDQk"
      },
      "source": [
        ""
      ],
      "execution_count": null,
      "outputs": []
    },
    {
      "cell_type": "code",
      "metadata": {
        "id": "aIxg74yxFB3x",
        "colab": {
          "base_uri": "https://localhost:8080/"
        },
        "outputId": "b0e5045c-3a25-4302-bca0-3c8e1c603280"
      },
      "source": [
        "#!/bin/python3\n",
        "\n",
        "import math\n",
        "import os\n",
        "import random\n",
        "import re\n",
        "import sys\n",
        "\n",
        "#\n",
        "# Complete the 'minimumNumber' function below.\n",
        "#\n",
        "# The function is expected to return an INTEGER.\n",
        "# The function accepts following parameters:\n",
        "#  1. INTEGER n\n",
        "#  2. STRING password\n",
        "#\n",
        "\n",
        "\n",
        "\n",
        "# numbers = [\"0\",\"1\",\"2\",\"3\",\"4\",\"5\",\"6\",\"7\",\"8\",\"9\"]\n",
        "# lower_case = [\"a\",\"b\",\"c\",\"d\",\"e\",\"f\",\"g\",\"h\",\"i\",\"j\",\"k\",\"l\",\"m\",\"n\",\"o\",\"p\",\"q\",\"r\",\"s\",\"t\",\"u\",\"v\",\"w\",\"x\",\"y\",\"z\"]\n",
        "# upper_case = [\"A\",\"B\",\"C\",\"D\",\"E\",\"F\",\"G\",\"H\",\"I\",\"J\",\"K\",\"L\",\"M\",\"N\",\"O\",\"P\",\"Q\",\"R\",\"S\",\"T\",\"U\",\"V\",\"W\",\"X\",\"Y\",\"Z\"]\n",
        "# special_characters = ['!','@','#','$','%','^','&','*','(',')','-','+']\n",
        "\n",
        "\n",
        "numbers = \"0123456789\"\n",
        "lower_case = \"abcdefghijklmnopqrstuvwxyz\"\n",
        "upper_case = \"ABCDEFGHIJKLMNOPQRSTUVWXYZ\"\n",
        "special_characters = \"!@#$%^&*()-+\"\n",
        "\n",
        "\n",
        "# Function for \n",
        "#\n",
        "#\n",
        "# lower_case or numbers or upper_case or special_characters\n",
        "\n",
        "user_password = input(\"What is your password? \\n\")\n",
        "\n",
        "def main():\n",
        "    # Return the minimum number of characters to make the password strong\n",
        "    begin_number = 0\n",
        "    if not any(items in user_password for items in lower_case):\n",
        "        begin_number += 1\n",
        "    if not any(items in user_password for items in upper_case):\n",
        "        begin_number += 1\n",
        "    if not any(items in user_password for items in numbers):\n",
        "        begin_number += 1\n",
        "    if not any(items in user_password for items in special_characters):\n",
        "        begin_number += 1\n",
        "        \n",
        "    print(f\"password remaining {begin_number}\")\n",
        "    \n",
        "    \n",
        "if __name__ == '__main__':\n",
        "  main()\n"
      ],
      "execution_count": null,
      "outputs": [
        {
          "output_type": "stream",
          "name": "stdout",
          "text": [
            "What is your password? \n",
            "11\n",
            "password remaining 3\n"
          ]
        }
      ]
    }
  ]
}